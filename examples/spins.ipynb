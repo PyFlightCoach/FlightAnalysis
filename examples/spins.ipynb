{
 "cells": [
  {
   "cell_type": "code",
   "execution_count": null,
   "metadata": {},
   "outputs": [],
   "source": [
    "from flightplotting.traces import axis_rate_trace\n",
    "import plotly.graph_objects as go\n",
    "from flightanalysis import Section, get_schedule\n",
    "from flightplotting.plots import plotdtw, plotsec, compare_3d, aoa_brv_plot, control_brv_plot\n",
    "\n",
    "sec = Section.from_csv(\"tests/test_inputs/test_log_00000052_section.csv\").subset(356, 374)\n",
    "\n",
    "\n",
    "#schedule = get_schedule(\"F3A\", \"P21\").scale_distance(170.0)\n",
    "#template = schedule.create_raw_template(\"left\", 40.0, 170.0, False)\n",
    "#\n",
    "#\n",
    "#dist, aligned = Section.align(sec,template, 2)\n",
    "\n",
    "\n"
   ]
  },
  {
   "cell_type": "code",
   "execution_count": null,
   "metadata": {},
   "outputs": [],
   "source": [
    "\n",
    "\n",
    "from geometry import Quaternion, Transformation, Point\n",
    "from flightanalysis import Section, State\n",
    "from flightanalysis import Spin, Line\n",
    "import numpy as np\n",
    "transform = Transformation(\n",
    "    sec[sec.data.index.get_loc(1.9, method=\"nearest\")].pos, \n",
    "    Quaternion.from_euler((0.0, 0.0, 0.0))\n",
    ")\n",
    "\n",
    "line_before = Line(5).create_template(transform, 30.0)\n",
    "\n",
    "spin = Spin(-2.5).scale(170).create_template(line_before[-1].transform, 30.0)\n",
    "\n",
    "downline = Line(10).create_template(spin[-1].transform, 30.0)\n",
    "\n",
    "spin = Section.stack([line_before, spin, downline])\n",
    "fig = plotsec(spin, scale=3, nmodels=5, color=\"blue\")\n",
    "\n",
    "fig2 = plotsec(sec, scale=3, nmodels=5)\n",
    "\n",
    "fig.add_traces(fig2.data)\n",
    "fig.show()\n"
   ]
  },
  {
   "cell_type": "code",
   "execution_count": null,
   "metadata": {},
   "outputs": [],
   "source": [
    "aoa_brv_plot(sec).update_layout(width=800,height=300).show()\n",
    "\n",
    "aoa_brv_plot(spin).update_layout(width=800,height=300).show()\n"
   ]
  },
  {
   "cell_type": "code",
   "execution_count": null,
   "metadata": {},
   "outputs": [],
   "source": [
    "import numpy as np\n",
    "import pandas as pd\n",
    "\n",
    "#aileron = pd.mean(sec.data[:, [\"aileron_1\", \"aileron_2\"]])\n",
    "\n",
    "control_brv_plot(sec).update_layout(width=1200,height=400).show()\n"
   ]
  },
  {
   "cell_type": "code",
   "execution_count": null,
   "metadata": {},
   "outputs": [],
   "source": []
  }
 ],
 "metadata": {
  "interpreter": {
   "hash": "42d4ce4e447bc09add596f00ae5eeec739f33dbaacd4963c380adcb6c8562bad"
  },
  "kernelspec": {
   "display_name": "Python 3.8.8 64-bit ('pyflightcoach': conda)",
   "name": "python3"
  },
  "language_info": {
   "codemirror_mode": {
    "name": "ipython",
    "version": 3
   },
   "file_extension": ".py",
   "mimetype": "text/x-python",
   "name": "python",
   "nbconvert_exporter": "python",
   "pygments_lexer": "ipython3",
   "version": "3.8.8"
  },
  "orig_nbformat": 4
 },
 "nbformat": 4,
 "nbformat_minor": 2
}
