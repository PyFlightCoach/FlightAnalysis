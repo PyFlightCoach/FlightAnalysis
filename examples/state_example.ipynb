{
 "cells": [
  {
   "cell_type": "code",
   "execution_count": 1,
   "metadata": {},
   "outputs": [],
   "source": [
    "from flightdata import Flight\n",
    "from flightanalysis.state import State\n",
    "from flightanalysis.flightline import Box\n",
    "\n",
    "flight = Flight.from_csv(\"tests/test_inputs/test_log_00000052_flight.csv\")\n",
    "box = Box.from_json(\"tests/test_inputs/test_log_box.json\")\n",
    "state = State.from_flight(flight, box)"
   ]
  },
  {
   "cell_type": "code",
   "execution_count": 4,
   "metadata": {},
   "outputs": [
    {
     "name": "stderr",
     "output_type": "stream",
     "text": [
      "/home/tom/source/PyFlightCoach/FlightAnalysis/flightanalysis/base/table.py:77: FutureWarning:\n",
      "\n",
      "Passing method to Float64Index.get_loc is deprecated and will raise in a future version. Use index.get_indexer([item], method=...) instead.\n",
      "\n"
     ]
    },
    {
     "ename": "TypeError",
     "evalue": "unsupported format string passed to Time.__format__",
     "output_type": "error",
     "traceback": [
      "\u001b[0;31m---------------------------------------------------------------------------\u001b[0m",
      "\u001b[0;31mTypeError\u001b[0m                                 Traceback (most recent call last)",
      "\u001b[1;32m/home/tom/source/PyFlightCoach/FlightAnalysis/examples/state_example.ipynb Cell 2'\u001b[0m in \u001b[0;36m<cell line: 3>\u001b[0;34m()\u001b[0m\n\u001b[1;32m      <a href='vscode-notebook-cell:/home/tom/source/PyFlightCoach/FlightAnalysis/examples/state_example.ipynb#ch0000001?line=0'>1</a>\u001b[0m \u001b[39mfrom\u001b[39;00m \u001b[39mflightplotting\u001b[39;00m\u001b[39m.\u001b[39;00m\u001b[39mplots\u001b[39;00m \u001b[39mimport\u001b[39;00m plotsec\n\u001b[0;32m----> <a href='vscode-notebook-cell:/home/tom/source/PyFlightCoach/FlightAnalysis/examples/state_example.ipynb#ch0000001?line=2'>3</a>\u001b[0m plotsec(state[\u001b[39m100\u001b[39;49m:\u001b[39m120\u001b[39;49m], nmodels\u001b[39m=\u001b[39;49m\u001b[39m10\u001b[39;49m)\n",
      "File \u001b[0;32m~/source/PyFlightCoach/FlightPlotting/flightplotting/plots.py:32\u001b[0m, in \u001b[0;36mplotsec\u001b[0;34m(sec, scale, nmodels, fig, color, obj, width, height, show_axes, ribb, tips)\u001b[0m\n\u001b[1;32m     <a href='file:///home/tom/source/PyFlightCoach/FlightPlotting/flightplotting/plots.py?line=28'>29</a>\u001b[0m     traces \u001b[39m+\u001b[39m\u001b[39m=\u001b[39m tiptrace(sec, scale \u001b[39m*\u001b[39m \u001b[39m1.85\u001b[39m)\n\u001b[1;32m     <a href='file:///home/tom/source/PyFlightCoach/FlightPlotting/flightplotting/plots.py?line=30'>31</a>\u001b[0m \u001b[39mif\u001b[39;00m nmodels \u001b[39m>\u001b[39m \u001b[39m0\u001b[39m:\n\u001b[0;32m---> <a href='file:///home/tom/source/PyFlightCoach/FlightPlotting/flightplotting/plots.py?line=31'>32</a>\u001b[0m     traces \u001b[39m+\u001b[39m\u001b[39m=\u001b[39m meshes(nmodels, sec, color, obj\u001b[39m.\u001b[39;49mscale(scale))\n\u001b[1;32m     <a href='file:///home/tom/source/PyFlightCoach/FlightPlotting/flightplotting/plots.py?line=33'>34</a>\u001b[0m \u001b[39mif\u001b[39;00m fig \u001b[39mis\u001b[39;00m \u001b[39mNone\u001b[39;00m:\n\u001b[1;32m     <a href='file:///home/tom/source/PyFlightCoach/FlightPlotting/flightplotting/plots.py?line=35'>36</a>\u001b[0m     fig \u001b[39m=\u001b[39m go\u001b[39m.\u001b[39mFigure(\n\u001b[1;32m     <a href='file:///home/tom/source/PyFlightCoach/FlightPlotting/flightplotting/plots.py?line=36'>37</a>\u001b[0m         data\u001b[39m=\u001b[39mtraces,\n\u001b[1;32m     <a href='file:///home/tom/source/PyFlightCoach/FlightPlotting/flightplotting/plots.py?line=37'>38</a>\u001b[0m         layout\u001b[39m=\u001b[39mgo\u001b[39m.\u001b[39mLayout(template\u001b[39m=\u001b[39m\u001b[39m\"\u001b[39m\u001b[39mflight3d+judge_view\u001b[39m\u001b[39m\"\u001b[39m)\n\u001b[1;32m     <a href='file:///home/tom/source/PyFlightCoach/FlightPlotting/flightplotting/plots.py?line=38'>39</a>\u001b[0m     )\n",
      "File \u001b[0;32m~/source/PyFlightCoach/FlightPlotting/flightplotting/traces.py:33\u001b[0m, in \u001b[0;36mmeshes\u001b[0;34m(npoints, seq, colour, obj)\u001b[0m\n\u001b[1;32m     <a href='file:///home/tom/source/PyFlightCoach/FlightPlotting/flightplotting/traces.py?line=29'>30</a>\u001b[0m \u001b[39mdef\u001b[39;00m \u001b[39mmeshes\u001b[39m(npoints, seq, colour, obj: OBJ\u001b[39m=\u001b[39mobj):\n\u001b[1;32m     <a href='file:///home/tom/source/PyFlightCoach/FlightPlotting/flightplotting/traces.py?line=30'>31</a>\u001b[0m     step \u001b[39m=\u001b[39m \u001b[39mint\u001b[39m(\u001b[39mlen\u001b[39m(seq\u001b[39m.\u001b[39mdata) \u001b[39m/\u001b[39m (npoints\u001b[39m+\u001b[39m\u001b[39m1\u001b[39m))\n\u001b[0;32m---> <a href='file:///home/tom/source/PyFlightCoach/FlightPlotting/flightplotting/traces.py?line=32'>33</a>\u001b[0m     \u001b[39mreturn\u001b[39;00m [obj\u001b[39m.\u001b[39mtransform(Transformation(st\u001b[39m.\u001b[39mpos, st\u001b[39m.\u001b[39matt))\u001b[39m.\u001b[39mcreate_mesh(colour,\u001b[39mf\u001b[39m\u001b[39m\"\u001b[39m\u001b[39m{\u001b[39;00mst\u001b[39m.\u001b[39mtime\u001b[39m:\u001b[39;00m\u001b[39m.1f\u001b[39m\u001b[39m}\u001b[39;00m\u001b[39m\"\u001b[39m) \u001b[39mfor\u001b[39;00m st \u001b[39min\u001b[39;00m seq[::step]]\n",
      "File \u001b[0;32m~/source/PyFlightCoach/FlightPlotting/flightplotting/traces.py:33\u001b[0m, in \u001b[0;36m<listcomp>\u001b[0;34m(.0)\u001b[0m\n\u001b[1;32m     <a href='file:///home/tom/source/PyFlightCoach/FlightPlotting/flightplotting/traces.py?line=29'>30</a>\u001b[0m \u001b[39mdef\u001b[39;00m \u001b[39mmeshes\u001b[39m(npoints, seq, colour, obj: OBJ\u001b[39m=\u001b[39mobj):\n\u001b[1;32m     <a href='file:///home/tom/source/PyFlightCoach/FlightPlotting/flightplotting/traces.py?line=30'>31</a>\u001b[0m     step \u001b[39m=\u001b[39m \u001b[39mint\u001b[39m(\u001b[39mlen\u001b[39m(seq\u001b[39m.\u001b[39mdata) \u001b[39m/\u001b[39m (npoints\u001b[39m+\u001b[39m\u001b[39m1\u001b[39m))\n\u001b[0;32m---> <a href='file:///home/tom/source/PyFlightCoach/FlightPlotting/flightplotting/traces.py?line=32'>33</a>\u001b[0m     \u001b[39mreturn\u001b[39;00m [obj\u001b[39m.\u001b[39mtransform(Transformation(st\u001b[39m.\u001b[39mpos, st\u001b[39m.\u001b[39matt))\u001b[39m.\u001b[39mcreate_mesh(colour,\u001b[39mf\u001b[39m\u001b[39m\"\u001b[39m\u001b[39m{\u001b[39;00mst\u001b[39m.\u001b[39mtime\u001b[39m:\u001b[39;00m\u001b[39m.1f\u001b[39m\u001b[39m}\u001b[39;00m\u001b[39m\"\u001b[39m) \u001b[39mfor\u001b[39;00m st \u001b[39min\u001b[39;00m seq[::step]]\n",
      "\u001b[0;31mTypeError\u001b[0m: unsupported format string passed to Time.__format__"
     ]
    }
   ],
   "source": [
    "from flightplotting.plots import plotsec\n",
    "\n",
    "plotsec(state[100:120], nmodels=10)"
   ]
  },
  {
   "cell_type": "code",
   "execution_count": null,
   "metadata": {},
   "outputs": [],
   "source": []
  },
  {
   "cell_type": "markdown",
   "metadata": {},
   "source": []
  }
 ],
 "metadata": {
  "interpreter": {
   "hash": "94fc48f5c9329a7d014e248cf0e69b67791971cddcb7b6df8acb81b068f2981c"
  },
  "kernelspec": {
   "display_name": "Python 3.10.2 ('pyfc')",
   "language": "python",
   "name": "python3"
  },
  "language_info": {
   "codemirror_mode": {
    "name": "ipython",
    "version": 3
   },
   "file_extension": ".py",
   "mimetype": "text/x-python",
   "name": "python",
   "nbconvert_exporter": "python",
   "pygments_lexer": "ipython3",
   "version": "3.10.2"
  },
  "orig_nbformat": 4
 },
 "nbformat": 4,
 "nbformat_minor": 2
}
