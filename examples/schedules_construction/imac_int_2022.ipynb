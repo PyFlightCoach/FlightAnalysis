{
 "cells": [
  {
   "cell_type": "markdown",
   "metadata": {},
   "source": [
    "# IMAC 2022 Sportsman Known, Template Generation\n"
   ]
  },
  {
   "cell_type": "code",
   "execution_count": 3,
   "metadata": {},
   "outputs": [],
   "source": [
    "from flightanalysis.schedule import Schedule, Manoeuvre, rollmaker, reboundrollmaker, rollsnapcombomaker\n",
    "from flightanalysis.schedule.elements import Loop, Line, Snap, Snap, Spin, StallTurn\n",
    "from flightanalysis.schedule.figure_rules import Categories, IMAC, F3ACentre, F3AEnd,F3AEndB\n",
    "from flightplotting.plots import plotsec\n",
    "from flightplotting.traces import boxtrace\n",
    "import plotly.graph_objects as go\n",
    "from geometry import Transformation\n",
    "import numpy as np\n",
    "\n",
    "boxscale = 170 * np.tan(np.radians(60))\n",
    "\n",
    "def plot_manoeuvre(itran: Transformation, man: Manoeuvre, scale=boxscale, speed=40, show=True):\n",
    "    template = man.scale(scale).create_template(itran, speed)\n",
    "    \n",
    "    if show:\n",
    "        fig = plotsec(template, scale=10, nmodels=3)\n",
    "        fig = go.Figure(data = fig.data, layout = go.Layout(template=\"plotly+flight3d+judge_view\"))\n",
    "        #fig.xaxes(range=[0, 200])\n",
    "        fig.update_layout(width=1200)\n",
    "        fig.show()\n",
    "\n",
    "    man_end = template[-1].transform\n",
    "\n",
    "    print(\"min z ={:.4f}, max z = {:.4f}\".format(template.z.min() / scale, template.z.max() / scale))\n",
    "    print(\"final x={:.4f}, final z={:.4f}\".format(man_end.translation.x / scale, man_end.translation.z / scale))\n",
    "\n",
    "    return man_end\n",
    "\n",
    "mans = [None for _ in range(11)]\n",
    "mends = [None for _ in range(11)]\n"
   ]
  },
  {
   "cell_type": "code",
   "execution_count": 4,
   "metadata": {},
   "outputs": [
    {
     "name": "stdout",
     "output_type": "stream",
     "text": [
      "final x=1.0, final z=0.5\n"
     ]
    }
   ],
   "source": [
    "schedule = Schedule(\"Intermediate\", Categories.IMAC, \"upright\", -1, 0.5, [])\n",
    "itrans = schedule.scale(boxscale).create_itransform(\"left\", 100.0)\n",
    "print(\"final x={}, final z={}\".format(itrans.translation.x/boxscale, itrans.translation.z/boxscale))"
   ]
  },
  {
   "cell_type": "code",
   "execution_count": 5,
   "metadata": {},
   "outputs": [
    {
     "name": "stdout",
     "output_type": "stream",
     "text": [
      "min z =0.1000, max z = 0.9000\n",
      "final x=0.2752, final z=0.1000\n"
     ]
    }
   ],
   "source": [
    "i = 1\n",
    "mans[i-1] = Manoeuvre(\"FigP\", 29, [\n",
    "    Line(0.7),\n",
    "    Snap(1),\n",
    "    Loop(0.4, -3/8),\n",
    "    Loop(0.4, -1/4, 0.5),\n",
    "    Loop(0.4, 1/8),\n",
    "    Line(0.45),\n",
    "    Loop(0.3,1/4)\n",
    "], IMAC, i)\n",
    "\n",
    "mends[i] = plot_manoeuvre(itrans, mans[i-1], speed=30.0, show=False)"
   ]
  },
  {
   "cell_type": "code",
   "execution_count": 6,
   "metadata": {},
   "outputs": [
    {
     "name": "stdout",
     "output_type": "stream",
     "text": [
      "min z =0.1000, max z = 0.6121\n",
      "final x=-0.2491, final z=0.1000\n"
     ]
    }
   ],
   "source": [
    "i=2\n",
    "mans[i-1] = Manoeuvre(\"LayHump\", 27, [\n",
    "    Line(0.1),\n",
    "    Loop(0.3,1/8),\n",
    "    ] + rollmaker(2, \"X\", 4, 0.6) + [\n",
    "    Loop(0.3, 1/2),\n",
    "    ] + rollmaker(1, \"/\", 2, 0.3) + [\n",
    "    Loop(0.3, -1/8)\n",
    "], IMAC, i)\n",
    "\n",
    "mends[i] = plot_manoeuvre(mends[i-1], mans[i-1], speed=30.0, show=False)"
   ]
  },
  {
   "cell_type": "code",
   "execution_count": 8,
   "metadata": {},
   "outputs": [
    {
     "name": "stdout",
     "output_type": "stream",
     "text": [
      "min z =0.1000, max z = 0.9657\n",
      "final x=0.1586, final z=0.1000\n"
     ]
    }
   ],
   "source": [
    "i=3\n",
    "mans[i-1] = Manoeuvre(\"TDrp\", 29, [\n",
    "    Line(abs(mends[i-1].translation.x)/boxscale),\n",
    "    Loop(0.3, -3/8),\n",
    "] + rollsnapcombomaker([[\"roll\", 1/4],[\"roll\", -3/4]], 0.5, bounce=False) + [\n",
    "    Loop(0.3, -5/8),\n",
    "    Line(0.56568542494923815),\n",
    "    Loop(0.3, 1/4)\n",
    "], IMAC, i)\n",
    "\n",
    "mends[i] = plot_manoeuvre(mends[i-1], mans[i-1], speed=30.0, show=False)\n"
   ]
  },
  {
   "cell_type": "code",
   "execution_count": 9,
   "metadata": {},
   "outputs": [
    {
     "name": "stdout",
     "output_type": "stream",
     "text": [
      "min z =0.1000, max z = 0.8000\n",
      "final x=-0.0666, final z=0.8000\n"
     ]
    }
   ],
   "source": [
    "i=4\n",
    "mans[i-1] = Manoeuvre(\"Imm\", 32, [\n",
    "    Line(0.15),\n",
    "    Snap(1, True),\n",
    "    Loop(0.7, 1/2), \n",
    "] + rollmaker(4, \"X\", 4, 0.4, position=\"None\"), IMAC, i)\n",
    "\n",
    "mends[i] = plot_manoeuvre(mends[i-1], mans[i-1], speed=30.0, show=False)\n"
   ]
  },
  {
   "cell_type": "code",
   "execution_count": 13,
   "metadata": {},
   "outputs": [
    {
     "name": "stdout",
     "output_type": "stream",
     "text": [
      "min z =0.1000, max z = 0.8000\n",
      "final x=-0.6077, final z=0.7450\n"
     ]
    }
   ],
   "source": [
    "i=5\n",
    "mans[i-1] = Manoeuvre(\"spin\", 35, [\n",
    "    Line(0.5),\n",
    "    Spin(0.025, -1.5),\n",
    "] + rollmaker(2, \"X\", 8, 0.2 - 0.09040000000000001, position=\"end\") + [\n",
    "    Line(0.3),\n",
    "    Loop(0.2, 0.5)\n",
    "] + rollmaker(1, \"/\", 1, 0.445) + [\n",
    "    Loop(0.2, 1/4)\n",
    "], IMAC, i)\n",
    "\n",
    "mends[i] = plot_manoeuvre(mends[i-1], mans[i-1], speed=30.0, show=False)"
   ]
  },
  {
   "cell_type": "code",
   "execution_count": 14,
   "metadata": {},
   "outputs": [
    {
     "name": "stdout",
     "output_type": "stream",
     "text": [
      "min z =0.0450, max z = 0.7450\n",
      "final x=-0.4205, final z=0.0450\n"
     ]
    }
   ],
   "source": [
    "i=6\n",
    "mans[i-1] = Manoeuvre(\"vLine\", 18, [\n",
    "    Line(0.1),\n",
    "    Loop(0.3, 1/4),\n",
    "] + rollmaker(3, \"X\", 4, 0.4) + [\n",
    "    Loop(0.3, -1/4)\n",
    "], IMAC, i)\n",
    "\n",
    "mends[i] = plot_manoeuvre(mends[i-1], mans[i-1], speed=30.0, show=False)\n"
   ]
  },
  {
   "cell_type": "code",
   "execution_count": null,
   "metadata": {},
   "outputs": [],
   "source": [
    "i=7\n",
    "c45 = np.cos(np.radians(45))\n",
    "mans[i-1] = Manoeuvre(\"halfC\", 22, \n",
    "    [\n",
    "        Line(0.2),\n",
    "        Loop(0.4, -1/8),\n",
    "        ] + rollmaker(2, \"X\", 4, 0.4, right=True) + [\n",
    "        Loop(0.4, -5/8),\n",
    "        Line(0.2, 0.5)\n",
    "    ], IMAC, i)\n",
    "\n",
    "mends[i] = plot_manoeuvre(mends[i-1], mans[i-1], speed=30.0, show=False)\n"
   ]
  },
  {
   "cell_type": "code",
   "execution_count": null,
   "metadata": {},
   "outputs": [],
   "source": [
    "i=8\n",
    "mans[7] = Manoeuvre(\"loop\", 16, [\n",
    "    Line(mends[i-1].translation.x / boxscale),\n",
    "    Loop(0.6, 3/8),\n",
    "    Loop(0.6, 1/4, 0.5),\n",
    "    Loop(0.6, -3/8)\n",
    "], IMAC, i)\n",
    "\n",
    "mends[i] = plot_manoeuvre(mends[i-1], mans[i-1], speed=30.0, show=False)\n"
   ]
  },
  {
   "cell_type": "code",
   "execution_count": null,
   "metadata": {},
   "outputs": [],
   "source": [
    "i=9\n",
    "mans[8] = Manoeuvre(\"revLoop\", 21, [\n",
    "    Line(0.7),\n",
    "    Loop(0.3, -1/4)\n",
    "] + rollmaker(1, \"/\", 2, 0.3, right=False) + [\n",
    "    Loop(0.4, 1/2),\n",
    "    Loop(0.4, -1/4)    \n",
    "], IMAC, i)\n",
    "\n",
    "mends[i] = plot_manoeuvre(mends[i-1], mans[i-1], speed=30.0, show=False)"
   ]
  },
  {
   "cell_type": "code",
   "execution_count": null,
   "metadata": {},
   "outputs": [],
   "source": [
    "i=10\n",
    "mans[i-1] = Manoeuvre(\"QLoop\", 25,\n",
    " rollmaker(2, \"X\", 4, 0.4, position=\"end\") + [\n",
    "    Loop(0.4, 7/8)\n",
    "] + rollmaker(1, \"/\", 2, 0.3, right=False) + [\n",
    "    Loop(0.3, -1/8)\n",
    "], IMAC, i)\n",
    "\n",
    "mends[i] = plot_manoeuvre(mends[i-1], mans[i-1], speed=30.0, show=False)"
   ]
  },
  {
   "cell_type": "code",
   "execution_count": null,
   "metadata": {},
   "outputs": [],
   "source": [
    "mans[10]  = Manoeuvre(\"Landing\", 1, [Line(0.5)], uid=18)\n",
    "schedule.manoeuvres = mans"
   ]
  },
  {
   "cell_type": "code",
   "execution_count": null,
   "metadata": {},
   "outputs": [],
   "source": [
    "from json import dump\n",
    "\n",
    "\n",
    "with open(\"flightanalysis/data/IMAC_Sportsman_2022.json\", \"w\") as f:\n",
    "    dump(schedule.to_dict(), f)\n"
   ]
  },
  {
   "cell_type": "code",
   "execution_count": null,
   "metadata": {},
   "outputs": [],
   "source": [
    "sched = schedule.scale_distance(170)\n",
    "template = sched.create_raw_template(\"right\", 30.0, 100, True)\n",
    "\n"
   ]
  },
  {
   "cell_type": "code",
   "execution_count": null,
   "metadata": {},
   "outputs": [],
   "source": [
    "\n",
    "from flightplotting.plots import plotdtw\n",
    "\n",
    "fig = plotdtw(template, sched.manoeuvres)\n",
    "\n",
    "fig.update_layout(width=800)\n",
    "#fig.add_traces(boxtrace())\n",
    "fig.show()\n"
   ]
  },
  {
   "cell_type": "code",
   "execution_count": null,
   "metadata": {},
   "outputs": [],
   "source": [
    "from flightanalysis import FCJson, Box\n",
    "from flightdata import Flight\n",
    "import numpy as np\n",
    "import pandas as pd\n",
    "\n",
    "fcj = FCJson(\"Intermediate\", None, None, template, sched )\n",
    "\n",
    "data = fcj.create_fc_json()\n",
    "\n",
    "from json import dump\n",
    "\n",
    "with open(\"IMAC_Sportsman_2022_template.json\", \"w\") as f:\n",
    "    dump(data, f)\n"
   ]
  },
  {
   "cell_type": "code",
   "execution_count": null,
   "metadata": {},
   "outputs": [],
   "source": []
  },
  {
   "cell_type": "code",
   "execution_count": null,
   "metadata": {},
   "outputs": [],
   "source": []
  }
 ],
 "metadata": {
  "interpreter": {
   "hash": "42d4ce4e447bc09add596f00ae5eeec739f33dbaacd4963c380adcb6c8562bad"
  },
  "kernelspec": {
   "display_name": "Python 3.8.8 64-bit ('pyflightcoach': conda)",
   "name": "python3"
  },
  "language_info": {
   "codemirror_mode": {
    "name": "ipython",
    "version": 3
   },
   "file_extension": ".py",
   "mimetype": "text/x-python",
   "name": "python",
   "nbconvert_exporter": "python",
   "pygments_lexer": "ipython3",
   "version": "3.8.8"
  },
  "orig_nbformat": 4
 },
 "nbformat": 4,
 "nbformat_minor": 2
}
